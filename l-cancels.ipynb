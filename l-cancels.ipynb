{
 "cells": [
  {
   "cell_type": "code",
   "execution_count": 34,
   "metadata": {},
   "outputs": [
    {
     "name": "stderr",
     "output_type": "stream",
     "text": [
      "\u001b[33mWARNING\u001b[0m unknown event code: 0x10\n",
      "\u001b[33mWARNING\u001b[0m unknown event code: 0x3a\n",
      "\u001b[33mWARNING\u001b[0m unknown event code: 0x3c\n",
      "\u001b[33mWARNING\u001b[0m unknown event code: 0x3b\n"
     ]
    },
    {
     "name": "stdout",
     "output_type": "stream",
     "text": [
      "[0.75, 0.9787234042553191]\n"
     ]
    }
   ],
   "source": [
    "from slippi import Game\n",
    "from slippi.event import LCancel\n",
    "from os import listdir\n",
    "from os.path import isfile, join\n",
    "\n",
    "class SlippiAnalyzer:\n",
    "    \"\"\"\n",
    "    Aggregates statistics for games over time\n",
    "    e.g. \"How have my L-Cancel success rates changed over time?\"\n",
    "    \"\"\"\n",
    "    \n",
    "    def __init__(self, directory):\n",
    "        self.directory = directory\n",
    "    \n",
    "    \"\"\"Get a list of filenames \"\"\"\n",
    "    def get_games(self):\n",
    "#         TODO: Add support for nested directories\n",
    "        filenames = [f for f in listdir(self.directory) if isfile(join(self.directory, f))]\n",
    "        return filenames\n",
    "    \n",
    "    \"\"\"Calculate a decimal percentage of sucessful L-Cancels\"\"\"\n",
    "    def get_l_cancel_percentage(self,file: str) -> float:\n",
    "        game = Game(file)\n",
    "        success = 0\n",
    "        failure = 0\n",
    "        for frame in game.frames:\n",
    "            if frame.ports[1].leader.post.l_cancel is LCancel.SUCCESS:\n",
    "                success +=1\n",
    "            elif frame.ports[1].leader.post.l_cancel is LCancel.FAILURE:\n",
    "                failure +=1\n",
    "        return success/(success+failure)\n",
    "    \n",
    "    \"\"\"Aggregate a decimal percentage of sucessful L-Cancels\"\"\"\n",
    "    def get_games_l_cancel_percentage(self, list_single_games: bool):\n",
    "        percentage = 0\n",
    "        files = self.get_games()\n",
    "        total_games = len(files)\n",
    "        single_games_list = []\n",
    "        for file in files:\n",
    "            if list_single_games:\n",
    "                single_games_list.append(self.get_l_cancel_percentage(join(self.directory, file)))\n",
    "            percentage += self.get_l_cancel_percentage(join(self.directory, file))\n",
    "        return percentage/total_games if not list_single_games else single_games_list  \n",
    "    \n",
    "s = SlippiAnalyzer('games')\n",
    "print(s.get_games_l_cancel_percentage(True))\n",
    "            "
   ]
  },
  {
   "cell_type": "code",
   "execution_count": null,
   "metadata": {},
   "outputs": [],
   "source": []
  }
 ],
 "metadata": {
  "kernelspec": {
   "display_name": "Python 3",
   "language": "python",
   "name": "python3"
  },
  "language_info": {
   "codemirror_mode": {
    "name": "ipython",
    "version": 3
   },
   "file_extension": ".py",
   "mimetype": "text/x-python",
   "name": "python",
   "nbconvert_exporter": "python",
   "pygments_lexer": "ipython3",
   "version": "3.8.2"
  }
 },
 "nbformat": 4,
 "nbformat_minor": 4
}
