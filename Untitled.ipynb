{
 "cells": [
  {
   "cell_type": "code",
   "execution_count": 16,
   "metadata": {},
   "outputs": [
    {
     "name": "stdout",
     "output_type": "stream",
     "text": [
      "None\n"
     ]
    }
   ],
   "source": [
    "from slippi import Game\n",
    "game=Game('Game_20200630T141520.slp')\n",
    "print(game.frames[1000].ports[0].leader.post.l_cancel)\n",
    "\n",
    "def l_cancel_percentage(game):\n",
    "    success = 0\n",
    "    failure = 0\n",
    "    for frame in game.frames:\n",
    "        if frame.ports[1].leader.post.l_cancel:\n",
    "            success +=1\n",
    "        else:\n",
    "            failure +=1\n",
    "    "
   ]
  },
  {
   "cell_type": "code",
   "execution_count": null,
   "metadata": {},
   "outputs": [],
   "source": []
  }
 ],
 "metadata": {
  "kernelspec": {
   "display_name": "Python 3",
   "language": "python",
   "name": "python3"
  },
  "language_info": {
   "codemirror_mode": {
    "name": "ipython",
    "version": 3
   },
   "file_extension": ".py",
   "mimetype": "text/x-python",
   "name": "python",
   "nbconvert_exporter": "python",
   "pygments_lexer": "ipython3",
   "version": "3.8.2"
  }
 },
 "nbformat": 4,
 "nbformat_minor": 4
}
